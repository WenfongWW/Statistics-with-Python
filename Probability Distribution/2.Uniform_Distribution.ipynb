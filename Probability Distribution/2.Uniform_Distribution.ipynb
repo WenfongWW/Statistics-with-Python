{
 "cells": [
  {
   "cell_type": "markdown",
   "metadata": {},
   "source": [
    "# Uniform Distribution: Overview "
   ]
  },
  {
   "cell_type": "markdown",
   "metadata": {},
   "source": [
    "Uniform distribution is one of the simplest probability distributions. There are two types of uniform distributions: discrete uniform distribution and continuous uniform distribution. \n",
    "\n",
    "### **Discrete Uniform Distribution**\n",
    "Definition: \n",
    "- A discrete uniform distribution is one where a finite number of values are equally likely to be observed. Every value in the set has the same probability. \n",
    "\n",
    "Properties:\n",
    "- **Finite set of values**: The set of possible outcomes is finite. \n",
    "- **Equal Probabilities**: Each outcome has an equal probability of occurring. \n",
    "\n",
    "Probability Mass Function (PMF):\n",
    "- For a discrete uniform distribution over n outcomes x1, x2,... xn, the PMF is given by:\n",
    "\n",
    "$$\n",
    "P(X = x_i) = \\frac{1}{n} \\quad \\text{for } i = 1, 2, \\ldots, n\n",
    "$$\n",
    "\n",
    "Example: \n",
    "- Rolling a fair six-sided die: Each face (1, 2, 3, 4, 5, 6) has an equal probability of 1/6. \n",
    "\n",
    "### **Continuous Uniform Distribution**\n",
    "\n",
    "- Definition:\n",
    "- A continuous uniform distribution is one where any value within a specified range is equally likely to occur. \n",
    "\n",
    "\n",
    "**Properties**:\n",
    "\n",
    "- **Interval [𝑎,𝑏]**: The possible outcomes are within a continuous range from 𝑎 to b.\n",
    "- **Equal Likelihood**: Any subinterval of equal length within [𝑎,𝑏] has the same probability.\n",
    "\n",
    "**Probability Density Function (PDF)**:\n",
    "- The PDF of a continuous random variable is a function that describes the likelihood of the random variable taking on a particular value. \n",
    "- The value of the PDF at any given point can be interpreted as providing a relative likelihood of the random variable being near that point. \n",
    "\n",
    "- For a continuous uniform distribution over the interval [a.b], the PDF is given by:\n",
    "$$\n",
    "f(x) = \\begin{cases} \n",
    "\\frac{1}{b - a} & \\text{for } a \\leq x \\leq b \\\\\n",
    "0 & \\text{otherwise}\n",
    "\\end{cases}\n",
    "$$\n",
    "\n",
    "\n",
    "**Cumulative Distribution Function (CDF)**:\n",
    "- The CDF for the continuous uniform distribution is:\n",
    "$$\n",
    "F(x) = \\begin{cases} \n",
    "0 & \\text{for } x < a \\\\\n",
    "\\frac{x - a}{b - a} & \\text{for } a \\leq x \\leq b \\\\\n",
    "1 & \\text{for } x > b\n",
    "\\end{cases}\n",
    "$$\n",
    "\n",
    "**Mean and Variance**:\n",
    "- Mean :\n",
    "$$\n",
    "\\mu = \\frac{a + b}{2}\n",
    "$$\n",
    "\n",
    "- Variance:\n",
    "$$\n",
    "\\sigma^2 = \\frac{(b - a)^2}{12}\n",
    "$$"
   ]
  }
 ],
 "metadata": {
  "kernelspec": {
   "display_name": "Python 3",
   "language": "python",
   "name": "python3"
  },
  "language_info": {
   "codemirror_mode": {
    "name": "ipython",
    "version": 3
   },
   "file_extension": ".py",
   "mimetype": "text/x-python",
   "name": "python",
   "nbconvert_exporter": "python",
   "pygments_lexer": "ipython3",
   "version": "3.10.9"
  }
 },
 "nbformat": 4,
 "nbformat_minor": 2
}
