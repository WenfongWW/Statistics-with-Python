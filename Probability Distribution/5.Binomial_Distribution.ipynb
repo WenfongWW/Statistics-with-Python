{
 "cells": [
  {
   "cell_type": "markdown",
   "metadata": {},
   "source": [
    "# Binomial Distribution "
   ]
  },
  {
   "cell_type": "markdown",
   "metadata": {},
   "source": [
    "The binomial distribution is a discrete probability distribution that models the number of successes in a fixed number of independent trials of a binary (yes/no) experiment. It is widely used in statistics to describe the distribution of binary outcomes.\n",
    "\n",
    "## Key Characteristics\n",
    "1. **Fixed Number of Trials (n)**: The experiment is performed a fixed number of times.\n",
    "2. **Binary Outcomes**: Each trial has two possible outcomes, typically called \"success\" and \"failure\".\n",
    "3. **Constant Probability (p)**: The probability of success is the same for each trial.\n",
    "4. **Independence**: The outcomes of each trial are independent of each other."
   ]
  }
 ],
 "metadata": {
  "language_info": {
   "name": "python"
  }
 },
 "nbformat": 4,
 "nbformat_minor": 2
}
