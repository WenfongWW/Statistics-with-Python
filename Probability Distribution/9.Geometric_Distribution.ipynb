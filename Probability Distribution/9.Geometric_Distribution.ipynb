{
 "cells": [
  {
   "cell_type": "markdown",
   "metadata": {},
   "source": [
    "# Geometric Distribution\n",
    "\n",
    "The Geometric distribution is a discrete probability distribution that models the number of trials needed to achieve the first success in a sequence of independent Bernoulli trials (where each trial has two possible outcomes: success or failure). It is often used to model the number of attempts required to achieve a specific outcome.\n",
    "\n",
    "Geometric distribution that is based on three important assumptions. These are listed as follows.\n",
    "\n",
    "- The trials being conducted are independent.\n",
    "- There can only be two outcomes of each trial - success or failure.\n",
    "- The success probability, denoted by p, is the same for each trial."
   ]
  },
  {
   "cell_type": "markdown",
   "metadata": {},
   "source": [
    "## **Key Characteristics**\n",
    "\n",
    "1. **Probability of Success (p)**: The probability of success on each trial. \n",
    "\n",
    "2. **Probability of Failure (1-p)**: The probability of failure on each trial.\n",
    "\n",
    "## **Probability Mass Function (PMF)**\n",
    "\n",
    "The PMF of the Geometric distribution is given by:\n",
    "$$\n",
    "P(X = k) = (1 - p)^{k - 1} p\n",
    "$$\n",
    "for k = 1, 2, 3, ..., where:\n",
    "- X is the random variable representing the number of trials until the first success.\n",
    "- 𝑝 is the probability of success on each trial.\n",
    "\n",
    "## **Cumulative Distribution Function (CDF)**\n",
    "The CDF of the Geometric distribution is:\n",
    "$$\n",
    "F(k) = P(X \\leq k) = 1 - (1 - p)^k\n",
    "$$\n",
    "for k = 1, 2, 3,...\n",
    "\n",
    "## **Mean and Variance**\n",
    "\n",
    "- **Mean (Expected Value)**: E[X] = 1/p\n",
    "\n",
    "- **Variance**: Var(X) = (1-p)/p^2\n",
    "\n",
    "## **Memoryless Property**\n",
    "\n",
    "One notable property of the Geometric distribution is the memoryless property, which states that the probability of success in future trials is independent of the number of past failures. Mathematically, this can be expressed as:\n",
    "\n",
    "$$\n",
    "P(X > n + m \\mid X > n) = P(X > m)\n",
    "$$\n",
    "\n",
    "### Example: \n",
    "Suppose you are rolling a fair six-sided die and you want to find the probability that you roll a six for the first time on the fourth roll. Here, a success is rolling a six (with probability p = 1/6)\n",
    "\n",
    "Using the PMF:\n",
    "$$\n",
    "P(X = 4) = \\left(1 - \\frac{1}{6}\\right)^{4-1} \\times \\frac{1}{6} = \\left(\\frac{5}{6}\\right)^3 \\times \\frac{1}{6} \\approx 0.096\n",
    "$$\n",
    "\n",
    "## **Use Cases**\n",
    "\n",
    "1. **Quality Control**: Number of items inspected before finding a defective one.\n",
    "2. **Customer Service**: Number of calls made until the first successful contact with a customer.\n",
    "3. **Sports**: Number of attempts before scoring a goal."
   ]
  },
  {
   "cell_type": "code",
   "execution_count": 2,
   "metadata": {},
   "outputs": [
    {
     "name": "stdout",
     "output_type": "stream",
     "text": [
      "P(X = 4) = 0.09645061728395063\n",
      "Mean: 6.0, Variance: 30.000000000000007\n"
     ]
    }
   ],
   "source": [
    "import numpy as np\n",
    "from scipy.stats import geom\n",
    "\n",
    "# Probability of success\n",
    "p = 1/6\n",
    "\n",
    "# Generate random samples\n",
    "samples = np.random.geometric(p, size=1000)\n",
    "\n",
    "# Calculate PMF for k = 4\n",
    "k = 4\n",
    "pmf_value = geom.pmf(k, p)\n",
    "print(f\"P(X = {k}) = {pmf_value}\")\n",
    "\n",
    "# Calculate the mean and variance\n",
    "mean = geom.mean(p)\n",
    "variance = geom.var(p)\n",
    "print(f\"Mean: {mean}, Variance: {variance}\")\n"
   ]
  },
  {
   "cell_type": "markdown",
   "metadata": {},
   "source": [
    "- **How does the probability of success 𝑝 affect the shape of the Geometric distribution?**\n",
    "\n",
    "As 𝑝 increases, the distribution becomes more peaked and concentrated around smaller values of 𝑘. As 𝑝 decreases, the distribution becomes more spread out.\n",
    "\n"
   ]
  }
 ],
 "metadata": {
  "kernelspec": {
   "display_name": "Python 3",
   "language": "python",
   "name": "python3"
  },
  "language_info": {
   "codemirror_mode": {
    "name": "ipython",
    "version": 3
   },
   "file_extension": ".py",
   "mimetype": "text/x-python",
   "name": "python",
   "nbconvert_exporter": "python",
   "pygments_lexer": "ipython3",
   "version": "3.10.9"
  }
 },
 "nbformat": 4,
 "nbformat_minor": 2
}
