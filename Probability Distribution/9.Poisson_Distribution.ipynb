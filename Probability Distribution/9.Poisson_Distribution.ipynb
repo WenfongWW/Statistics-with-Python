{
 "cells": [
  {
   "cell_type": "markdown",
   "metadata": {},
   "source": [
    "# **Poisson Distribution**\n",
    "\n",
    "The Poisson distribution is a discrete probability distribution that models the number of events occurring within a fixed interval of time or space. These events must occur with a known constant mean rate and independently of the time since the last event. It is often used to model the number of occurrences of events that happen at a constant average rate but are randomly spaced in time or space.\n",
    "\n",
    "## **Key Characteristics**\n",
    "1. **Rate Parameter (𝜆)**: The average number of events in the given interval. It is both the mean and the variance of the distribution.\n",
    "2. **Discrete Nature**: The Poisson distribution is defined for non-negative integer values (0, 1, 2, ...).\n",
    "\n",
    "## **Probability Mass Function (PMF)**\n"
   ]
  }
 ],
 "metadata": {
  "language_info": {
   "name": "python"
  }
 },
 "nbformat": 4,
 "nbformat_minor": 2
}
