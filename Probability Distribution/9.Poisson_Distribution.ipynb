{
 "cells": [
  {
   "cell_type": "markdown",
   "metadata": {},
   "source": [
    "# **Poisson Distribution**\n",
    "\n",
    "The Poisson distribution is a discrete probability distribution that models the number of events occurring within a fixed interval of time or space. These events must occur with a known constant mean rate and independently of the time since the last event. It is often used to model the number of occurrences of events that happen at a constant average rate but are randomly spaced in time or space.\n",
    "\n",
    "## **Key Characteristics**\n",
    "1. **Rate Parameter (𝜆)**: The average number of events in the given interval. It is both the mean and the variance of the distribution.\n",
    "2. **Discrete Nature**: The Poisson distribution is defined for non-negative integer values (0, 1, 2, ...).\n",
    "\n",
    "## **Probability Mass Function (PMF)**\n",
    "The probability mass function of the Poisson distribution is given by:\n",
    "$$\n",
    "P(X = k) = \\frac{\\lambda^k e^{-\\lambda}}{k!}\n",
    "$$\n",
    "for k = 0, 1, 2, ..., where:\n",
    "- X is the random variable representing the number of events.\n",
    "- λ is the average rate of occurrence (mean number of events in the interval).\n",
    "\n",
    "## **Mean and Variance**\n",
    "\n",
    "- **Mean**: E[X] = λ\n",
    "- **Variance**: Var(X) = λ\n",
    "\n",
    "## **Cumulative Distribution Function (CDF)**\n",
    "The cumulative distribution function of the Poisson distribution is the sum of the probabilities of all values up to 𝑘:\n",
    "\n",
    "$$\n",
    "F(k) = P(X \\leq k) = \\sum_{i=0}^{k} \\frac{\\lambda^i e^{-\\lambda}}{i!}\n",
    "$$\n",
    "\n",
    "## **Properties**\n",
    "\n",
    "1. \n",
    "\n"
   ]
  },
  {
   "cell_type": "code",
   "execution_count": null,
   "metadata": {
    "vscode": {
     "languageId": "plaintext"
    }
   },
   "outputs": [],
   "source": []
  }
 ],
 "metadata": {
  "language_info": {
   "name": "python"
  }
 },
 "nbformat": 4,
 "nbformat_minor": 2
}
