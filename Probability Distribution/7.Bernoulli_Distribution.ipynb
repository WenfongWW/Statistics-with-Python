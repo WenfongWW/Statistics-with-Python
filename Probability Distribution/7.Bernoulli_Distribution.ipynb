{
 "cells": [
  {
   "cell_type": "markdown",
   "metadata": {},
   "source": [
    "# Bernoulli Distribution\n",
    "\n",
    "The Bernoulli distribution is one of the simplest and most fundamental discrete probability distributions in statistics. It represents a random experiment or process that has only two possible outcomes, typically labeled as \"success\" and \"failure.\" This distribution is named after the Swiss mathematician Jacob Bernoulli.\n",
    "\n",
    "## Key Characteristics of the Bernoulli Distribution\n",
    "\n",
    "1. **Outcomes**: There are only two possible outcomes for a Bernoulli trial. These are often coded as 1 (success) and 0 (failure).\n",
    "\n",
    "2. **Parameter**:\n",
    "- p: The probability of success. This is the only parameter of the Bernoulli distribution. The probability of failure can be represented as 1−p.\n",
    "\n",
    "3. **Probability Mass Function (PMF)**:\n",
    "- The PMF of a Bernoulli random variable X is given by:\n",
    "$$\n",
    "P(X = x) = p^x (1 - p)^{1 - x} \\quad \\text{for } x \\in \\{0, 1\\}\n",
    "$$\n",
    "\n",
    "This means:\n",
    "- P(X=1) = p: The probability of success\n",
    "- P(X=0) = 1-p: The probability of failure\n",
    "\n",
    "4. **Mean and Variance**:\n",
    "- **Mean (Expected Value)**: The mean of a Bernoulli distribution is p. \n",
    "- **Variance**: The variance of a Bernoulli distribution is p(1-p).\n",
    "\n",
    "\n",
    "\n"
   ]
  },
  {
   "cell_type": "markdown",
   "metadata": {},
   "source": [
    "### Applications of the Bernoulli Distribution:\n",
    "\n",
    "- **Decision-Making**: Bernoulli distributions are used in decision-making processes that have two outcomes, such as yes/no, pass/fail, win/lose, etc.\n",
    "\n",
    "- **Simple Binary Systems**: It models binary response data in various fields, from simple electronic systems to complex biomedical tests.\n",
    "\n",
    "- **Survey Analysis**: In surveys where the responses are binary (e.g., agree/disagree), Bernoulli distributions can help analyze the proportion of each response.\n",
    "\n",
    "- **Quality Control**: In manufacturing or quality control, a Bernoulli trial could represent the event of a product passing or failing inspection.\n",
    "\n",
    "## Example Usage\n",
    "\n",
    "Consider a factory where each item has a 1% chance of being defective. If you pick one item at random and check if it's defective, the situation can be modeled as a Bernoulli trial:\n",
    "\n",
    "- p=0.01 (probability of finding a defective item, or \"success\" in finding a defect) \n",
    "- 1−p=0.99 (probability that the item is not defective, or \"failure\" to find a defect)\n",
    "\n",
    "The Bernoulli distribution's simplicity makes it a cornerstone in the understanding of more complex distributions and statistical methods, serving as the foundation for the binomial distribution, where a Bernoulli process is repeated multiple times independently."
   ]
  },
  {
   "cell_type": "code",
   "execution_count": 1,
   "metadata": {},
   "outputs": [
    {
     "name": "stdout",
     "output_type": "stream",
     "text": [
      "Number of Heads: 424\n",
      "Number of Tails: 576\n"
     ]
    },
    {
     "data": {
      "image/png": "[encoded data removed]",
      "text/plain": [
       "<Figure size 600x400 with 1 Axes>"
      ]
     },
     "metadata": {},
     "output_type": "display_data"
    }
   ],
   "source": [
    "import numpy as np\n",
    "import matplotlib.pyplot as plt\n",
    "from scipy.stats import bernoulli\n",
    "\n",
    "# Set the probability of heads (success)\n",
    "p = 0.4\n",
    "\n",
    "# Simulate 1000 flips of a coin\n",
    "flips = bernoulli.rvs(p, size=1000)\n",
    "\n",
    "# Calculate the number of heads and tails\n",
    "heads = np.sum(flips)\n",
    "tails = len(flips) - heads\n",
    "\n",
    "# Print the results\n",
    "print(f\"Number of Heads: {heads}\")\n",
    "print(f\"Number of Tails: {tails}\")\n",
    "\n",
    "# Plot the results\n",
    "plt.figure(figsize=(6,4))\n",
    "plt.bar(['Heads', 'Tails'], [heads, tails], color=['blue', 'red'])\n",
    "plt.title('Results of 1000 Bernoulli Trials (Coin Flips)')\n",
    "plt.ylabel('Frequency')\n",
    "plt.show()\n"
   ]
  }
 ],
 "metadata": {
  "kernelspec": {
   "display_name": "Python 3",
   "language": "python",
   "name": "python3"
  },
  "language_info": {
   "codemirror_mode": {
    "name": "ipython",
    "version": 3
   },
   "file_extension": ".py",
   "mimetype": "text/x-python",
   "name": "python",
   "nbconvert_exporter": "python",
   "pygments_lexer": "ipython3",
   "version": "3.10.9"
  }
 },
 "nbformat": 4,
 "nbformat_minor": 2
}
