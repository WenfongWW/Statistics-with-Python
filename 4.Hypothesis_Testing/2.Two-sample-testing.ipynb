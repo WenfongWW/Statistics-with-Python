{
 "cells": [
  {
   "cell_type": "markdown",
   "metadata": {},
   "source": [
    "# **Two Sample t-Test**\n",
    "\n",
    "**Definition**\n",
    "\n",
    "A two-sample t-test is used to compare the means of two independent groups when the population standard deviations are unknown. It helps determine whether the difference between the two sample means is statistically significant.\n",
    "\n",
    "**Assumption**\n",
    "1. The data in each sample are randomly sampled and independent.\n",
    "2. The data in each sample are approximately normally distributed, especially for small sample sizes.\n",
    "3. The variances of the two populations are equal (for the pooled t-test) or can be unequal (for the Welch's t-test).\n",
    "\n",
    "\n",
    "\n",
    "**Formula**\n",
    "\n",
    "The test statistic for the two-sample t-test is calculated as:\n",
    "$$\n",
    "t = \\frac{\\bar{x}_1 - \\bar{x}_2}{\\sqrt{\\frac{s_1^2}{n_1} + \\frac{s_2^2}{n_2}}}\n",
    "$$\n",
    "\n",
    "$$\n",
    "\\bar{x}_1, \\bar{x}_2 = \\text{sample means}\n",
    "$$\n",
    "$$\n",
    " s_1^2, s_2^2 = \\text{sample variances}\n",
    "$$\n",
    "$$\n",
    "n_1, n_2 = \\text{sample sizes}\n",
    "$$\n",
    "\n",
    "**Example**\n",
    "\n",
    "Comparing the average test scores of students from two different schools when the population standard deviations are unknown.\n",
    "\n",
    "- **How would you verify the assumption of normality for a two-sample t-test?**\n",
    "    - Use visual methods (e.g., Q-Q plot, histogram) or statistical tests (e.g., Shapiro-Wilk test, Kolmogorov-Smirnov test) to assess whether the data are approximately normally distributed.\n",
    "\n",
    "- **What steps would you take if your data do not meet the assumptions required for a two-sample t-test?**\n",
    "    - Consider data transformations (e.g., log transformation), use non-parametric tests (e.g., Mann-Whitney U test), or increase the sample size to rely on the Central Limit Theorem.\n",
    "\n",
    "1. State the hypotheses:\n",
    "    - Null hypothesis (H0) : μ1 = μ2 (no difference in means)\n",
    "    - Alternative hypothesis (H1): μ1 ≠ μ2 (two-tailed) or  μ1 >  μ2 or  μ1 <  μ1 (one-tailed) \n",
    "​\n",
    "3. Calculate the test statistic using the formula above.\n",
    "4. Determine the critical value from the t-distribution table with degrees of freedom approximated based on the data.\n",
    "    - If t-statistic > t-critical value, reject H0. \n",
    "5. Compare the test statistic to the critical value or use the p-value to make a decision.\n",
    "\n",
    "\n",
    "\n"
   ]
  },
  {
   "cell_type": "markdown",
   "metadata": {},
   "source": [
    "**Example Scenario**\n",
    "\n",
    "**Research Question**: Is there a significant difference in the average scores of two groups of students on a math test?"
   ]
  },
  {
   "cell_type": "code",
   "execution_count": 1,
   "metadata": {},
   "outputs": [
    {
     "name": "stdout",
     "output_type": "stream",
     "text": [
      "T-statistic: -4.82418151324422\n",
      "P-value: 0.0013143396280569947\n",
      "Reject the null hypothesis (H0).\n"
     ]
    }
   ],
   "source": [
    "import numpy as np\n",
    "from scipy.stats import ttest_ind\n",
    "\n",
    "# Sample data\n",
    "group1 = [85, 86, 78, 75, 89, 95, 80, 82, 83, 87]\n",
    "group2 = [88, 90, 92, 94, 91, 89, 90, 92, 93, 91]\n",
    "\n",
    "# Perform two-sample t-test\n",
    "t_stat, p_value = ttest_ind(group1, group2, equal_var=False)  # Use Welch's t-test by setting equal_var=False\n",
    "print(f\"T-statistic: {t_stat}\")\n",
    "print(f\"P-value: {p_value}\")\n",
    "\n",
    "# Decision based on significance level\n",
    "alpha = 0.05\n",
    "if p_value <= alpha:\n",
    "    print(\"Reject the null hypothesis (H0).\")\n",
    "else:\n",
    "    print(\"Fail to reject the null hypothesis (H0).\")\n",
    "\n"
   ]
  },
  {
   "cell_type": "markdown",
   "metadata": {},
   "source": [
    "The negative t-statistic further indicates that the mean of Group 1 is significantly lower than the mean of Group 2.\n",
    "\n",
    "Reject the null hypothesis: There is strong evidence to suggest that there is a significant difference between the means of the two groups.\n"
   ]
  },
  {
   "cell_type": "markdown",
   "metadata": {},
   "source": [
    "# **Two-Sample z-Test**\n",
    "\n",
    "**Defintion**\n",
    "\n",
    "A two-sample z-test is used to compare the means of two independent groups when the population standard deviations are known. It is typically used for large sample sizes.\n",
    "\n",
    "**Assumptions**\n",
    "1. The data in each sample are randomly sampled and independent.\n",
    "2. The data in each sample are approximately normally distributed, or the sample size is large.\n",
    "3. The population standard deviations are known.\n",
    "\n",
    "**Formula**\n",
    "\n",
    "The test statistic for the two-sample z-test is calculated as:\n",
    "$$\n",
    "z = \\frac{\\bar{x}_1 - \\bar{x}_2}{\\sqrt{\\frac{\\sigma_1^2}{n_1} + \\frac{\\sigma_2^2}{n_2}}}\n",
    "$$\n",
    "\n",
    "where: \n",
    "$$\n",
    "\\bar{x}_1, \\bar{x}_2 = \\text{sample means}\n",
    "$$\n",
    "$$\n",
    " s_1^2, s_2^2 = \\text{sample variances}\n",
    "$$\n",
    "$$\n",
    "n_1, n_2 = \\text{sample sizes}\n",
    "$$\n",
    "\n",
    "**Example**\n",
    "\n",
    "Comparing the average weights of two different batches of products when the population standard deviations are known.\n",
    "\n"
   ]
  },
  {
   "cell_type": "code",
   "execution_count": 2,
   "metadata": {},
   "outputs": [
    {
     "name": "stdout",
     "output_type": "stream",
     "text": [
      "Z-statistic: -3.9691115068546714\n",
      "P-value: 7.214111945241797e-05\n",
      "Reject the null hypothesis (H0).\n"
     ]
    }
   ],
   "source": [
    "import numpy as np\n",
    "from scipy.stats import norm\n",
    "\n",
    "# Sample data\n",
    "group1 = [2.1, 2.5, 2.8, 2.4, 2.7]\n",
    "group2 = [3.1, 3.2, 3.0, 3.3, 3.1]\n",
    "\n",
    "# Known population standard deviations\n",
    "sigma1 = 0.3\n",
    "sigma2 = 0.2\n",
    "\n",
    "# Sample means and sizes\n",
    "mean1 = np.mean(group1)\n",
    "mean2 = np.mean(group2)\n",
    "n1 = len(group1)\n",
    "n2 = len(group2)\n",
    "\n",
    "# Calculate the test statistic\n",
    "z = (mean1 - mean2) / np.sqrt((sigma1**2 / n1) + (sigma2**2 / n2))\n",
    "\n",
    "# Calculate the p-value\n",
    "p_value = 2 * (1 - norm.cdf(np.abs(z)))\n",
    "\n",
    "print(f\"Z-statistic: {z}\")\n",
    "print(f\"P-value: {p_value}\")\n",
    "\n",
    "# Decision based on significance level\n",
    "alpha = 0.05\n",
    "if p_value <= alpha:\n",
    "    print(\"Reject the null hypothesis (H0).\")\n",
    "else:\n",
    "    print(\"Fail to reject the null hypothesis (H0).\")\n"
   ]
  },
  {
   "cell_type": "markdown",
   "metadata": {},
   "source": [
    "## **Interpreting the Output**\n",
    "\n",
    "- **Rejecting the Null Hypothesis:**\n",
    "    - When the p-value is less than or equal to the significance level (𝛼), you reject the null hypothesis. This means that there is statistically significant evidence to support the alternative hypothesis.\n",
    "    - In the context of a two-sample t-test, rejecting the null hypothesis means that there is a significant difference between the means of the two groups.\n",
    "    \n",
    "- **Failing to Reject the Null Hypothesis**:\n",
    "\n",
    "    - When the p-value is greater than the significance level (𝛼), you fail to reject the null hypothesis. This means that there is not enough evidence to support the alternative hypothesis.\n",
    "    - In this case, it suggests that there is no significant difference between the means of the two groups."
   ]
  },
  {
   "cell_type": "markdown",
   "metadata": {},
   "source": [
    "## **Consequences of Not Meeting Assumptions**\n",
    "\n",
    "1. **Non-Normality**:\n",
    "    - **Two-sample t-test**: The t-test relies on the assumption that the data are approximately normally distributed, especially for small sample sizes. If this assumption is violated, the test statistic may not follow the t-distribution, leading to inaccurate p-values and confidence intervals.\n",
    "\n",
    "    - **Two-Sample z-test**: The z-test assumes normality, but this is less critical for large sample sizes due to the Central Limit Theorem. However, for small sample sizes, non-normality can affect the accuracy of the test.\n",
    "\n",
    "2. **Unequal Variances**:\n",
    "    - **Two-Sample t-Test (Pooled)**: The pooled t-test assumes equal variances. If the variances are unequal, the pooled t-test can give misleading results, increasing the risk of Type I and Type II errors.\n",
    "    - **Two-Sample z-test**: Unequal variances can also affect the z-test, although this is less of a concern if the sample sizes are large and approximately equal.\n",
    "\n",
    "3. **Non-Independent Samples:**: Both the t-test and z-test assume that the samples are independent. If this assumption is violated, the test results can be biased, as the test statistics will not accurately reflect the true variability in the data.\n",
    "\n",
    "## **Addressing Violations of Assumtions**\n",
    "\n",
    "1. **Non-Normality**:\n",
    "    - **Transform the Data**: Apply transformations (e.g., log, square root) to make the data more normally distributed.\n",
    "    - **Non-Parametric Tests**: Use non-parametric tests like the Mann-Whitney U test, which do not assume normality.\n",
    "    - **Increase Sample Size**: Larger sample sizes can mitigate the effects of non-normality due to the Central Limit Theorem.\n",
    "\n",
    "2. **Unequal Variances**\n",
    "    - **Welch's t-Test**: Use Welch’s t-test, which does not assume equal variances and adjusts the degrees of freedom accordingly.\n",
    "\n",
    "3. **Non-independent Samples**\n",
    "    - **Paired t-Test**: If the samples are paired or matched, use a paired t-test instead of an independent two-sample t-test."
   ]
  },
  {
   "cell_type": "markdown",
   "metadata": {},
   "source": [
    "**Non-Normality**"
   ]
  },
  {
   "cell_type": "code",
   "execution_count": 4,
   "metadata": {},
   "outputs": [
    {
     "name": "stdout",
     "output_type": "stream",
     "text": [
      "Group 1 normality p-value: 0.8326519727706909\n",
      "Group 2 normality p-value: 0.8139519691467285\n",
      "T-test p-value: 0.0013143396280569947\n"
     ]
    }
   ],
   "source": [
    "import numpy as np\n",
    "from scipy.stats import shapiro, mannwhitneyu, ttest_ind\n",
    "\n",
    "# Sample data\n",
    "group1 = [2.1, 2.5, 2.8, 2.4, 2.7]\n",
    "group2 = [3.1, 3.2, 3.0, 3.3, 3.1]\n",
    "\n",
    "# Shapiro-Wilk test for normality\n",
    "stat1, p1 = shapiro(group1)\n",
    "stat2, p2 = shapiro(group2)\n",
    "print(f\"Group 1 normality p-value: {p1}\")\n",
    "print(f\"Group 2 normality p-value: {p2}\")\n",
    "\n",
    "# If data are not normal, use Mann-Whitney U test\n",
    "if p1 < 0.05 or p2 < 0.05:\n",
    "    stat, p_value = mannwhitneyu(group1, group2)\n",
    "    print(f\"Mann-Whitney U test p-value: {p_value}\")\n",
    "else:\n",
    "    t_stat, p_value = ttest_ind(group1, group2)\n",
    "    print(f\"T-test p-value: {p_value}\")\n"
   ]
  },
  {
   "cell_type": "markdown",
   "metadata": {},
   "source": [
    "**Unequal Variances**"
   ]
  },
  {
   "cell_type": "code",
   "execution_count": 5,
   "metadata": {},
   "outputs": [
    {
     "name": "stdout",
     "output_type": "stream",
     "text": [
      "Welch's t-test p-value: 0.004000559014808887\n"
     ]
    }
   ],
   "source": [
    "from scipy.stats import ttest_ind\n",
    "\n",
    "# Sample data with unequal variances\n",
    "group1 = [2.1, 2.5, 2.8, 2.4, 2.7]\n",
    "group2 = [3.1, 3.2, 3.0, 3.3, 3.1]\n",
    "\n",
    "# Perform Welch's t-test (default in scipy ttest_ind with equal_var=False)\n",
    "t_stat, p_value = ttest_ind(group1, group2, equal_var=False)\n",
    "print(f\"Welch's t-test p-value: {p_value}\")\n"
   ]
  },
  {
   "cell_type": "markdown",
   "metadata": {},
   "source": [
    "## Conclusion "
   ]
  },
  {
   "cell_type": "markdown",
   "metadata": {},
   "source": [
    "In conclusion, the Two-Sample t-Test and z-Test are important statistical tests used to compare means and determine whether a sample mean is significantly different from a known population mean. The Two-Sample t-Test is used when comparing the means of two independent samples, while the z-Test is used when the population standard deviation is known and the sample size is large. It is important to check the assumptions for each test before performing the test to ensure its validity. The results of these tests can provide valuable insights and help make informed decisions in various fields such as science, business, and social sciences."
   ]
  }
 ],
 "metadata": {
  "kernelspec": {
   "display_name": "Python 3",
   "language": "python",
   "name": "python3"
  },
  "language_info": {
   "codemirror_mode": {
    "name": "ipython",
    "version": 3
   },
   "file_extension": ".py",
   "mimetype": "text/x-python",
   "name": "python",
   "nbconvert_exporter": "python",
   "pygments_lexer": "ipython3",
   "version": "3.10.9"
  }
 },
 "nbformat": 4,
 "nbformat_minor": 2
}
