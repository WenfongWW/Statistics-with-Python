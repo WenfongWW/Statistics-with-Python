{
 "cells": [
  {
   "cell_type": "markdown",
   "metadata": {},
   "source": [
    "# **One-sample T-test**\n",
    "\n",
    "**Definition**\n",
    "\n",
    "A one-sample t-test is used to determine whether the mean of a single sample is significantly different from a known population mean when the population standard deviation is unknown.\n",
    "\n",
    "**Assumptions**: \n",
    "\n",
    "1. The sample data are randomly sampled from the population.\n",
    "2. The data are approximately normally distributed, especially for small sample sizes.(n < 30)\n",
    "3. The population standard deviation is unknown.\n",
    "\n",
    "**Formula**\n",
    "The test statistic for a one-sample t-test is calculated as:\n",
    "\n",
    "$$\n",
    "t = \\frac{\\bar{x} - \\mu_0}{\\frac{s}{\\sqrt{n}}}\n",
    "$$\n",
    "\n",
    "where:\n",
    "- xˉ= sample mean\n",
    "- 𝜇0= hypothesized population mean\n",
    "- 𝑠 = sample standard deviation\n",
    "- 𝑛 = sample size\n",
    "\n",
    "**Steps**:\n",
    "1. **State the hypotheses**:\n",
    "    - Null hypothesis (H0): μ=μ0\n",
    "​\n",
    "    - Alternative hypothesis (H1) μ ≠ μ0 (one-tailed) or μ > μ0 or μ < μ0 (one-tailed)\n",
    "\n",
    "2. Calculate the test statistic using the formula above.\n",
    "3. Determine the critical value from the t-distribution table with 𝑛 − 1 degrees of freedom.\n",
    "4. Compare the test statistic to the critical value or use the p-value to make a decision.\n",
    "\n",
    "\n",
    "**Example**\n",
    "\n",
    "A researcher wants to test whether the average height of a sample of 20 individuals is different from the population average height of 170 cm when the population standard deviation is unknown.\n",
    "\n",
    "- **What is the difference between a one-tailed and a two-tailed test in the context of a one-sample t-test?**\n",
    "    - A one-tailed test tests for a difference in one direction (either greater than or less than), while a two-tailed test tests for a difference in both directions (either greater than or less than the specified value).\n",
    "\n",
    "- **How does the choice of significance level (𝛼) affect the results of a one-sample test?**\n",
    "    - A lower significance level (𝛼) makes it harder to reject the null hypothesis, reducing the likelihood of a Type I error (false positive). A higher significance level increases the risk of a Type I error.\n"
   ]
  },
  {
   "cell_type": "code",
   "execution_count": 1,
   "metadata": {},
   "outputs": [
    {
     "name": "stdout",
     "output_type": "stream",
     "text": [
      "T-statistic: 0.0\n",
      "P-value: 1.0\n",
      "Fail to reject the null hypothesis (H0).\n"
     ]
    }
   ],
   "source": [
    "import numpy as np\n",
    "from scipy.stats import ttest_1samp\n",
    "\n",
    "# Sample data\n",
    "data = [2.3, 2.5, 2.1, 2.4, 2.8, 2.7, 2.6, 2.3, 2.4, 2.9]\n",
    "# Hypothesized population mean\n",
    "mu_0 = 2.5\n",
    "\n",
    "# Perform one-sample t-test\n",
    "t_stat, p_value = ttest_1samp(data, mu_0)\n",
    "print(f\"T-statistic: {t_stat}\")\n",
    "print(f\"P-value: {p_value}\")\n",
    "\n",
    "# Decision based on significance level\n",
    "alpha = 0.05\n",
    "if p_value <= alpha:\n",
    "    print(\"Reject the null hypothesis (H0).\")\n",
    "else:\n",
    "    print(\"Fail to reject the null hypothesis (H0).\")\n"
   ]
  },
  {
   "cell_type": "markdown",
   "metadata": {},
   "source": [
    "# One-Sample Z-Test \n",
    "\n",
    "A one-sample z-test is used to determine whether the mean of a single sample is significantly different from a known or hypothesized population mean when the population standard deviation is known.\n",
    "\n",
    "**Assumptions**:\n",
    "\n",
    "1. The sample data are randomly sampled from the population.\n",
    "2. The data are approximately normally distributed, or the sample size is large (typically 𝑛 ≥ 30).\n",
    "3. The population standard deviation is known.\n",
    "\n",
    "**Formula**\n",
    "The test statistic for a one-sample z-test is calculated as:\n",
    "\n",
    "\n",
    "where:\n",
    "- xˉ= sample mean\n",
    "- 𝜇0= hypothesized population mean\n",
    "- 𝑠 = sample standard deviation\n",
    "- 𝑛 = sample size\n",
    "\n",
    "\n",
    "**Example**\n",
    "\n",
    "A quality control manager wants to test whether the average weight of products from a production line is different from the target weight of 500 grams when the population standard deviation is known to be 10 grams.\n",
    "\n"
   ]
  },
  {
   "cell_type": "code",
   "execution_count": 2,
   "metadata": {},
   "outputs": [
    {
     "name": "stdout",
     "output_type": "stream",
     "text": [
      "Z-statistic: 0.0\n",
      "P-value: 1.0\n",
      "Fail to reject the null hypothesis (H0).\n"
     ]
    }
   ],
   "source": [
    "import numpy as np\n",
    "from scipy.stats import norm\n",
    "\n",
    "# Sample data\n",
    "data = [2.3, 2.5, 2.1, 2.4, 2.8, 2.7, 2.6, 2.3, 2.4, 2.9]\n",
    "# Hypothesized population mean\n",
    "mu_0 = 2.5\n",
    "# Population standard deviation\n",
    "sigma = 0.2\n",
    "# Sample mean\n",
    "sample_mean = np.mean(data)\n",
    "# Sample size\n",
    "n = len(data)\n",
    "\n",
    "# Calculate the test statistic\n",
    "z = (sample_mean - mu_0) / (sigma / np.sqrt(n))\n",
    "# Calculate the p-value\n",
    "p_value = 2 * (1 - norm.cdf(np.abs(z)))\n",
    "\n",
    "print(f\"Z-statistic: {z}\")\n",
    "print(f\"P-value: {p_value}\")\n",
    "\n",
    "# Decision based on significance level\n",
    "alpha = 0.05\n",
    "if p_value <= alpha:\n",
    "    print(\"Reject the null hypothesis (H0).\")\n",
    "else:\n",
    "    print(\"Fail to reject the null hypothesis (H0).\")\n"
   ]
  }
 ],
 "metadata": {
  "kernelspec": {
   "display_name": "Python 3",
   "language": "python",
   "name": "python3"
  },
  "language_info": {
   "codemirror_mode": {
    "name": "ipython",
    "version": 3
   },
   "file_extension": ".py",
   "mimetype": "text/x-python",
   "name": "python",
   "nbconvert_exporter": "python",
   "pygments_lexer": "ipython3",
   "version": "3.10.9"
  }
 },
 "nbformat": 4,
 "nbformat_minor": 2
}
