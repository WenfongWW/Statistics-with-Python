{
 "cells": [
  {
   "cell_type": "markdown",
   "metadata": {},
   "source": [
    "# **Paired Samples/Dependent Samples**\n",
    "\n",
    "Paired samples, also known as dependent samples or matched samples, refer to pairs of observations that are related in some way. This relationship can be due to the same subjects being measured under different conditions or times, or due to the matching of subjects based on specific criteria. The key idea is that the observations within each pair are not independent of each other.\n",
    "\n",
    "\n",
    "## **Examples of Paired Samples**\n",
    "\n",
    "1. **Before-and-after Studies**\n",
    "    - Measuring the same subjects before and after a treatment or intervention. For example, measuring blood pressure before and after administering a new drug to the same group of patients.\n",
    "\n",
    "2. **Matched Subjects:**\n",
    "    - Matching subjects based on certain characteristics (e.g., age, gender) and then assigning each subject in the pair to different conditions. For example, pairing students based on their pre-test scores and then assigning them to different teaching methods.\n",
    "\n",
    "3. **Repeated Measures**\n",
    "    - Measuring the same subjects under different conditions or at different times. For example, measuring the performance of the same employees on different tasks or at different times of the year.\n",
    "\n",
    "\n"
   ]
  },
  {
   "cell_type": "markdown",
   "metadata": {},
   "source": [
    "## **Paired Sample t-Test**\n",
    "\n",
    "A paired sample t-test is used to determine whether the mean difference between paired observations is significantly different from zero. It is often used in before-and-after studies or repeated measures designs.\n",
    "\n",
    "**Hypotheses**\n",
    "\n",
    "- Let D1,.... Dn be a small random sample (n <= 30) of the differences in pairs.\n",
    "    - **Null Hypothesis (H0)**: The mean difference between the paired observations is zero (μD = 0).\n",
    "    - **Alternative Hypothesis (H1)**: The mean difference between the paired observations is not zero (μD ≠ 0).\n",
    "\n",
    "\n",
    "**Test Statistic**\n",
    "\n",
    "The test statistic of a paired sample t-test is calculated as: \n",
    "$$\n",
    "t = \\frac{\\bar{D}}{s_D / \\sqrt{n}}\n",
    "$$\n",
    "where:\n",
    "- Dˉ = mean of the differences between paired observations \n",
    "- sD = standard deviation of the differences \n",
    "- n = number of pairs \n",
    "\n",
    "**Steps in paired Sample t-Test**\n",
    "\n",
    "1. State the Hypotheses: \n",
    "     - H0: The mean difference between paired obseration is zero. \n",
    "     - H1: The mean difference between paired observations is not zero. \n",
    "\n",
    "2. Calculate the difference between each pair of observation \n",
    "3. Use the mean and standard deviation of the differences to calculate the t-statistic.\n",
    "4. Compare the t-statistic to the t-distribution with n - 1 degrees of freedom to find the p-value. \n",
    "5. Compare the p-value to the significance level (a). If the p-value is less than or equal to a, reject H0. \n",
    "\n",
    "\n"
   ]
  },
  {
   "cell_type": "code",
   "execution_count": null,
   "metadata": {},
   "outputs": [],
   "source": [
    "import numpy as np\n",
    "from scipy.stats import ttest_rel\n",
    "\n",
    "# Scores before and after training\n",
    "before = [70, 75, 80, 85, 90, 95, 100]\n",
    "after = [78, 80, 85, 88, 92, 96, 105]\n",
    "\n",
    "# Perform paired t-test\n",
    "t_stat, p_value = ttest_rel(before, after)\n",
    "print(f\"T-statistic: {t_stat}\")\n",
    "print(f\"P-value: {p_value}\")\n",
    "\n",
    "# Decision based on significance level\n",
    "alpha = 0.05\n",
    "if p_value <= alpha:\n",
    "    print(\"Reject the null hypothesis (H0).\")\n",
    "    print(\"The training program significantly improves test scores.\")\n",
    "else:\n",
    "    print(\"Fail to reject the null hypothesis (H0).\")\n",
    "    print(\"The training program does not significantly improve test scores.\")\n"
   ]
  }
 ],
 "metadata": {
  "kernelspec": {
   "display_name": "Python 3",
   "language": "python",
   "name": "python3"
  },
  "language_info": {
   "name": "python",
   "version": "3.10.9"
  }
 },
 "nbformat": 4,
 "nbformat_minor": 2
}
