{
 "cells": [
  {
   "cell_type": "markdown",
   "metadata": {},
   "source": [
    "# **Analysis of Variance (ANOVA)**\n",
    "\n",
    "Analysis of Variance (ANOVA) is a statistical method used to compare the means of three or more groups to determine if there is a significant difference between them. It generalizes the t-test to more than two groups. It may be a capable apparatus for analyzing information and can be utilized in a wide range of areas, counting science, medication, social sciences, and building. \n",
    "\n",
    "There are three main types of ANOVA: one-way ANOVA, two-way ANOVA, and Repeated Measures ANOVA. In this lesson, we are going center on one-way ANOVA, which is the foremost common sort of ANOVA."
   ]
  },
  {
   "cell_type": "markdown",
   "metadata": {},
   "source": [
    "## **One-Way ANOVA**\n",
    "\n",
    "One way ANOVA is used when there is one independent variable (also known as a factor) with three or more groups. \n",
    "\n",
    "\n",
    "**Assumptions One-way ANOVA**\n",
    "1. **Normality**: The data should be normally distributed within each group. This assumption can be checked using a normal probability plot or a Shapiro-Wilk test. \n",
    "2. **Homogeneity of variance**: The variance of the dependent variable should be equal across all groups. This assumption can be checked using a Levene's test or Bartlette's test. \n",
    "3. **Independence**: The observations should be independent of each other. \n",
    "\n",
    "\n",
    "**Example**\n",
    "\n",
    "If these assumptions are not met, the results of ANOVA may not be reliable.\n",
    "\n",
    "**Research Question**: Do different teaching methods (Method A, Method B, and Method C) result in different average test scores among students?\n",
    "1. **Hypotheses**\n",
    "The null hypothesis (H0) in ANOVA is that there is no difference in the means of the groups. The alternative hypothesis (HA) is that at least one group's mean is different from the others.\n",
    "\n",
    "2. **Test statistic**\n",
    "The test statistic in ANOVA is the F-statistic, which is calculated as the ratio of the variance between groups to the variance within groups. The formula for the F-statistic is:\n",
    "$$\n",
    "F = \\frac{\\text{MSB}}{\\text{MSW}}\n",
    "$$\n",
    "where:\n",
    "- **MSB** is the mean square between groups\n",
    "- **MSW** is the mean square within groups\n",
    "\n",
    "3. Compare the F-statistic to the critical value from the F-distribution table or use the p-value to make a decision.\n",
    "4. If the p-value is less than or equal to the significance level ( α=0.05), reject the null hypothesis.\n",
    "\n",
    "\n",
    "**Post-hoc tests**\n",
    "\n",
    "If ANOVA reveals a significant difference between the groups, we need to perform post-hoc tests to determine which groups are significantly different from each other. They are needed to control for Type I error when making multiple comparisons.\n",
    "\n",
    "There are several post-hoc tests available, including Tukey's test, Dunnett's test, and Scheffe's test."
   ]
  },
  {
   "cell_type": "markdown",
   "metadata": {},
   "source": [
    "- **How do you handle violations of the assumptions of one-way ANOVA?**\n",
    "    - If the assumptions are violated, you can use alternative methods such as the Welch ANOVA (for unequal variances) or non-parametric tests like the Kruskal-Wallis test (for non-normal data).\n",
    "\n",
    "- **You perform a one-way ANOVA and get an F-statistic of 4.5 with a p-value of 0.02. How do you interpret these results?**\n",
    "    - The p-value of 0.02 is less than the significance level (α=0.05), so you reject the null hypothesis. This indicates that there is a significant difference between the group means."
   ]
  },
  {
   "cell_type": "code",
   "execution_count": 1,
   "metadata": {},
   "outputs": [
    {
     "name": "stdout",
     "output_type": "stream",
     "text": [
      "F-statistic: 39.560606060606005\n",
      "P-value: 5.216395924738024e-06\n",
      "Reject the null hypothesis (H0).\n",
      "There is a significant difference between the group means.\n"
     ]
    }
   ],
   "source": [
    "import numpy as np\n",
    "import scipy.stats as stats\n",
    "\n",
    "# Sample data: Test scores from three different teaching methods\n",
    "method_A = [85, 88, 90, 85, 87]\n",
    "method_B = [78, 82, 84, 80, 81]\n",
    "method_C = [90, 92, 94, 93, 95]\n",
    "\n",
    "# Combine data into a single array\n",
    "data = [method_A, method_B, method_C]\n",
    "\n",
    "# Perform one-way ANOVA\n",
    "F_stat, p_value = stats.f_oneway(*data)\n",
    "print(f\"F-statistic: {F_stat}\")\n",
    "print(f\"P-value: {p_value}\")\n",
    "\n",
    "# Decision based on significance level\n",
    "alpha = 0.05\n",
    "if p_value <= alpha:\n",
    "    print(\"Reject the null hypothesis (H0).\")\n",
    "    print(\"There is a significant difference between the group means.\")\n",
    "else:\n",
    "    print(\"Fail to reject the null hypothesis (H0).\")\n",
    "    print(\"There is no significant difference between the group means.\")\n"
   ]
  },
  {
   "cell_type": "markdown",
   "metadata": {},
   "source": [
    "# **Two Way ANOVA**\n",
    "\n",
    "Two way ANOVA is a statistical method to used analyze the differences between two independent variables (also called factors) and one dependent variable. \n",
    "\n",
    "It is used to test whether there is a significant interaction between the two independent variables and whether there are any main effects of each independent variable on the dependent variable.\n",
    "\n",
    "The two independent variables can be either categorical or continuous. The dependent variable must be continuous, normally distributed, and have equal variances across all groups. \n",
    "\n",
    "**Hypotheses in Two-Way ANOVA**\n",
    "\n",
    "1. **Main Effect of Factor A:**\n",
    "    - H0: The means of the dependent variable are equal across the levels of Factor A.\n",
    "    - H1:  The means of the dependent variable are not equal across the levels of Factor A.\n",
    "\n",
    "2. **Main Effect of Factor B:**\n",
    "    - H0: The means of the dependent variable are equal across the levels of Factor B.\n",
    "    - H1:  The means of the dependent variable are not equal across the levels of Factor B.\n",
    "\n",
    "3. Interaction Effect between Factor A and Factor B:\n",
    "    - H0: There is no interaction effect between Factor A and Factor B on the dependent variable.\n",
    "    - H1: There is an interaction effect between Factor A and Factor B on the dependent variable.\n",
    "\n",
    "**Example**\n",
    "\n",
    "**Research Question**: How do different diets (Diet A, Diet B) and different exercise programs (Exercise 1, Exercise 2) affect weight loss?"
   ]
  },
  {
   "cell_type": "code",
   "execution_count": 1,
   "metadata": {},
   "outputs": [
    {
     "name": "stdout",
     "output_type": "stream",
     "text": [
      "                        sum_sq   df        F    PR(>F)\n",
      "C(Diet)              30.083333  1.0  22.5625  0.001445\n",
      "C(Exercise)           0.083333  1.0   0.0625  0.808887\n",
      "C(Diet):C(Exercise)   0.083333  1.0   0.0625  0.808887\n",
      "Residual             10.666667  8.0      NaN       NaN\n"
     ]
    }
   ],
   "source": [
    "import pandas as pd\n",
    "import statsmodels.api as sm\n",
    "from statsmodels.formula.api import ols\n",
    "\n",
    "# Sample data\n",
    "data = {\n",
    "    'WeightLoss': [2, 4, 5, 3, 6, 8, 7, 6, 5, 4, 7, 8],\n",
    "    'Diet': ['A', 'A', 'A', 'A', 'B', 'B', 'B', 'B', 'A', 'A', 'B', 'B'],\n",
    "    'Exercise': ['1', '1', '2', '2', '1', '1', '2', '2', '1', '2', '1', '2']\n",
    "}\n",
    "\n",
    "df = pd.DataFrame(data)\n",
    "\n",
    "# Perform two-way ANOVA\n",
    "model = ols('WeightLoss ~ C(Diet) + C(Exercise) + C(Diet):C(Exercise)', data=df).fit()\n",
    "anova_table = sm.stats.anova_lm(model, typ=2)\n",
    "print(anova_table)\n"
   ]
  }
 ],
 "metadata": {
  "kernelspec": {
   "display_name": "Python 3",
   "language": "python",
   "name": "python3"
  },
  "language_info": {
   "codemirror_mode": {
    "name": "ipython",
    "version": 3
   },
   "file_extension": ".py",
   "mimetype": "text/x-python",
   "name": "python",
   "nbconvert_exporter": "python",
   "pygments_lexer": "ipython3",
   "version": "3.11.5"
  }
 },
 "nbformat": 4,
 "nbformat_minor": 2
}
