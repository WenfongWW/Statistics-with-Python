{
 "cells": [
  {
   "cell_type": "markdown",
   "metadata": {},
   "source": [
    "# **Poisson Distribution**\n",
    "\n",
    "The Poisson distribution is a discrete probability distribution that models the number of events occurring within a fixed interval of time or space. These events must occur with a known constant mean rate and independently of the time since the last event. It is often used to model the number of occurrences of events that happen at a constant average rate but are randomly spaced in time or space.\n",
    "\n",
    "## **Key Characteristics**\n",
    "1. **Rate Parameter (𝜆)**: The average number of events in the given interval. It is both the mean and the variance of the distribution.\n",
    "2. **Discrete Nature**: The Poisson distribution is defined for non-negative integer values (0, 1, 2, ...).\n",
    "\n",
    "## **Probability Mass Function (PMF)**\n",
    "The probability mass function of the Poisson distribution is given by:\n",
    "$$\n",
    "P(X = k) = \\frac{\\lambda^k e^{-\\lambda}}{k!}\n",
    "$$\n",
    "for k = 0, 1, 2, ..., where:\n",
    "- X is the random variable representing the number of events.\n",
    "- λ is the average rate of occurrence (mean number of events in the interval).\n",
    "\n",
    "## **Mean and Variance**\n",
    "\n",
    "- **Mean**: E[X] = λ\n",
    "- **Variance**: Var(X) = λ\n",
    "\n",
    "## **Cumulative Distribution Function (CDF)**\n",
    "The cumulative distribution function of the Poisson distribution is the sum of the probabilities of all values up to 𝑘:\n",
    "\n",
    "$$\n",
    "F(k) = P(X \\leq k) = \\sum_{i=0}^{k} \\frac{\\lambda^i e^{-\\lambda}}{i!}\n",
    "$$\n",
    "\n",
    "## **Properties**\n",
    "\n",
    "1. **Additivity**: If X1 ~ Poisson (λ1) and X2 ~ Poisson (λ2) are independent, then X1 + X2 ~ Poisson (λ1 + λ2). \n",
    "2. **Rare Events**: The Poisson distribution is often used to model rare events occurring in a large population or area. \n",
    "\n",
    "## **Example**\n",
    "\n",
    "Suppose a call center receives an average of 5 calls per hour. What is the probability that exactly 3 calls will be received in an hour?\n",
    "\n",
    "Using the PMF: \n",
    "$$\n",
    "P(X = 3) = \\frac{5^3 e^{-5}}{3!} = \\frac{125 e^{-5}}{6} \\approx 0.1404\n",
    "$$\n",
    "\n"
   ]
  },
  {
   "cell_type": "code",
   "execution_count": 1,
   "metadata": {},
   "outputs": [
    {
     "name": "stdout",
     "output_type": "stream",
     "text": [
      "P(X = 3) = 0.1403738958142805\n",
      "Mean: 5.0, Variance: 5.0\n"
     ]
    }
   ],
   "source": [
    "import numpy as np\n",
    "from scipy.stats import poisson\n",
    "\n",
    "# Average rate of occurrence (lambda)\n",
    "lambda_ = 5\n",
    "\n",
    "# Generate random samples\n",
    "samples = np.random.poisson(lambda_, 1000)\n",
    "\n",
    "# Calculate PMF for k = 3\n",
    "k = 3\n",
    "pmf_value = poisson.pmf(k, lambda_)\n",
    "print(f\"P(X = {k}) = {pmf_value}\")\n",
    "\n",
    "# Calculate the mean and variance\n",
    "mean = poisson.mean(lambda_)\n",
    "variance = poisson.var(lambda_)\n",
    "print(f\"Mean: {mean}, Variance: {variance}\")\n"
   ]
  },
  {
   "cell_type": "markdown",
   "metadata": {},
   "source": [
    "## **Use Cases**\n",
    "\n",
    "1. **Queueing Theory**: Number of customers arriving at a service center in a given time period.\n",
    "2. **Reliability Engineering**: Number of failures of a machine in a certain period.\n",
    "3. **Telecommunications**: Number of phone calls received by a call center.\n",
    "4. **Traffic Flow**: Number of cars passing through a checkpoint.\n",
    "5. **Biology**: Number of mutations in a given length of DNA."
   ]
  },
  {
   "cell_type": "markdown",
   "metadata": {},
   "source": [
    "- **What are the key characteristics of a Poisson distribution?**\n",
    "    - The events occur independently.\n",
    "    - The average rate (λ) of events is constant. \n",
    "    - Two events cannot occur at exactly the same time. \n",
    "    - The number of events in one interval is independent of the number of events in other intervals. \n",
    "\n",
    "\n",
    "- **How does the rate parameter λ affect the shape of the Poisson distribution?**\n",
    "    - As 𝜆 increases, the distribution becomes more symmetric and bell-shaped, approaching a normal distribution. For small 𝜆, the distribution is skewed to the right\n",
    "\n",
    "\n",
    "**Application and Usage**\n",
    "- **When would you use a Poisson distribution in a real-world scenario?**\n",
    "    - You would use it to model the number of rare events occurring within a fixed interval of time or space, such as the number of emails received in an hour or the number of accidents at a traffic intersection. \n",
    "\n",
    "- **What are some limitations of using the Poisson distribution?**\n",
    "    - The Poisson distribution assumes that events occur independently and at a constant rate, which may not be true in all real-world situations. It also cannot model scenarios where events are influenced by time or by the occurrence of previous events. \n",
    "\n",
    "- **Can you perform a hypothesis test for the rate parameter 𝜆 in a Poisson distribution?**\n",
    "    - Yes, you can perform a hypothesis test using the sample mean and comparing it to the hypothesized value of 𝜆 using a z-test or a chi-squared test. \n",
    "\n",
    "- **How would you test if a dataset follows a Poisson distribution?**\n",
    "    - You can use goodness-of-fit tests such as the Chi-square test or the Kolmogorov-Smirnov test to compare the observed frequencies with the expected frequencies under the Poisson distribution.\n",
    "\n",
    "- **What is the relationship between the Poisson distribution and the Exponential distribution?**\n",
    "    - The time between events in a Poisson process follows an Exponential distribution with rate parameter 𝜆.\n",
    "\n",
    "- **How does the Poisson distribution relate to the Binomial distribution?**\n",
    "    - The Poisson distribution can be derived as a limiting case of the Binomial distribution when the number of trials 𝑛 is large and the probability of success 𝑝 is small, such that np=λ remains constant.\n",
    "\n",
    "-"
   ]
  }
 ],
 "metadata": {
  "kernelspec": {
   "display_name": "Python 3",
   "language": "python",
   "name": "python3"
  },
  "language_info": {
   "codemirror_mode": {
    "name": "ipython",
    "version": 3
   },
   "file_extension": ".py",
   "mimetype": "text/x-python",
   "name": "python",
   "nbconvert_exporter": "python",
   "pygments_lexer": "ipython3",
   "version": "3.10.9"
  }
 },
 "nbformat": 4,
 "nbformat_minor": 2
}
