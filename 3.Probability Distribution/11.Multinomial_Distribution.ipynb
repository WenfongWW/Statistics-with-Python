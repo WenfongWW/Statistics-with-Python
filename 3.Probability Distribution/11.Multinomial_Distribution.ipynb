{
 "cells": [
  {
   "cell_type": "markdown",
   "metadata": {},
   "source": [
    "# **Multinomial Distribution**\n",
    "\n",
    "The multinomial distribution is a generalization of the binomial distribution. While the binomial distribution models the number of successes in a fixed number of independent Bernoulli trials with two possible outcomes (success or failure), the multinomial distribution models the outcomes of \n",
    "𝑛 independent trials where each trial can result in one of 𝑘 possible categories. It is used to describe the probabilities of obtaining a specific combination of counts for the \n",
    "𝑘 categories.\n",
    "\n"
   ]
  },
  {
   "cell_type": "markdown",
   "metadata": {},
   "source": [
    "## **Key Characteristics**\n",
    "\n",
    "1. **Number of Trials (n)**: The fixed number of independent trials. \n",
    "2. **Number of Categories (k)**: The number of possible outcomes for each trial. \n",
    "3. **Probability of Each Category (p1, p2,...pk)**: The probability of each category, where pi = 1.\n",
    "\n",
    "## **Probability Mass Function (PMF)**\n",
    "The probability of observing counts (x1, x2, ..., xk) for the k categories after n trials is given by:\n",
    "$$\n",
    "P(X_1 = x_1, X_2 = x_2, \\ldots, X_k = x_k) = \\frac{n!}{x_1! x_2! \\cdots x_k!} p_1^{x_1} p_2^{x_2} \\cdots p_k^{x_k}\n",
    "$$\n",
    "where: \n",
    "- xi is the number of trials resulting in the i-th category. \n",
    "- xi = n \n",
    "\n",
    "## **Mean and Variance**\n",
    "- **Mean**: E[Xi] = npi\n",
    "- **Variance**: Var(X): npi(1-pi)\n",
    "- **Covariance**: Cov(X1i, Xj) = -npipj for i=/j.\n",
    "\n",
    "## **Example**\n",
    "Suppose you roll a fair six-sided die 10 times. The outcome of each roll can be one of six categories (1 through 6). The probabilities of each category are p1 = p2 = ... = p6 = 1/6. \n",
    "\n",
    "The probability of rolling exactly two 1s, three 2s, one 3, one 4, two 5s, and one 6 is:\n",
    "\n"
   ]
  },
  {
   "cell_type": "code",
   "execution_count": 1,
   "metadata": {},
   "outputs": [
    {
     "name": "stdout",
     "output_type": "stream",
     "text": [
      "P(X = [2, 3, 1, 1, 2, 1]) = 0.00250057155921354\n"
     ]
    }
   ],
   "source": [
    "import numpy as np\n",
    "from scipy.stats import multinomial\n",
    "\n",
    "# Number of trials\n",
    "n = 10\n",
    "\n",
    "# Probabilities of each category\n",
    "p = [1/6, 1/6, 1/6, 1/6, 1/6, 1/6]\n",
    "\n",
    "# Generate random samples\n",
    "samples = np.random.multinomial(n, p, size=1000)\n",
    "\n",
    "# Calculate PMF for a specific outcome\n",
    "x = [2, 3, 1, 1, 2, 1]\n",
    "pmf_value = multinomial.pmf(x, n, p)\n",
    "print(f\"P(X = {x}) = {pmf_value}\")\n"
   ]
  },
  {
   "cell_type": "markdown",
   "metadata": {},
   "source": [
    "## **Use Cases**\n",
    "- **Natural Language Processing**: Modeling word frequencies in text.\n",
    "- **Genetics**: Modeling the distribution of different genotypes in a population.\n",
    "- **Quality Control**: Modeling the number of defective items in different categories in a batch.\n",
    "- **Marketing**: Analyzing customer preferences across multiple product categories."
   ]
  }
 ],
 "metadata": {
  "kernelspec": {
   "display_name": "Python 3",
   "language": "python",
   "name": "python3"
  },
  "language_info": {
   "codemirror_mode": {
    "name": "ipython",
    "version": 3
   },
   "file_extension": ".py",
   "mimetype": "text/x-python",
   "name": "python",
   "nbconvert_exporter": "python",
   "pygments_lexer": "ipython3",
   "version": "3.10.9"
  }
 },
 "nbformat": 4,
 "nbformat_minor": 2
}
