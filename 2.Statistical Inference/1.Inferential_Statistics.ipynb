{
 "cells": [
  {
   "cell_type": "markdown",
   "metadata": {},
   "source": [
    "# Inferential Statistics: Overview"
   ]
  },
  {
   "cell_type": "markdown",
   "metadata": {},
   "source": [
    "Inferential statistics is a branch of statistics that allows us to make conclusions or inferences about a population based on a sample of data drawn from that population. While descriptive statistics describe the data collected, inferential statistics use this data to learn about the population that the sample represents."
   ]
  },
  {
   "cell_type": "markdown",
   "metadata": {},
   "source": [
    "Depending on which statement is to be made about the population or which question is to be answered about the population, different statistical methods or hypothesis tests are used. The best known are the hypothesis tests with which a group difference can be tested, such as the t-test, the chi-square test or the analysis of variance. Then there are the hypothesis tests with which a correlation of variables can be tested, such as correlation analysis and regression."
   ]
  },
  {
   "cell_type": "markdown",
   "metadata": {},
   "source": [
    "1. Simple test procedures \n",
    "- t-Test\n",
    "- Binominal Test\n",
    "- Chi-square Test \n",
    "- Mann-Whitney U Test\n",
    "- Wilcoxon-Test\n",
    "...\n",
    "\n",
    "2. Regression Analysis \n",
    "- Simple linear regression\n",
    "- Multiple regression\n",
    "- Logisitic regression \n",
    "\n",
    "3. Correlation analysis \n",
    "- Pearson Correlation Analysis \n",
    "- Spearman Rank Correlation \n",
    "...\n",
    "\n",
    "4. ANOVA\n",
    "- Single factorial ANOVA\n",
    "- Two factorial ANOVA\n",
    "- ANOVA with measurement repetitions\n",
    "..."
   ]
  }
 ],
 "metadata": {
  "language_info": {
   "name": "python"
  }
 },
 "nbformat": 4,
 "nbformat_minor": 2
}
