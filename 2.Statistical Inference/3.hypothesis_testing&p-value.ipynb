{
 "cells": [
  {
   "cell_type": "markdown",
   "metadata": {},
   "source": [
    "# **Hypothesis Testing and P-value**\n",
    "\n",
    "\n"
   ]
  },
  {
   "cell_type": "markdown",
   "metadata": {},
   "source": [
    "## **Hypothesis Testing**\n",
    "\n",
    "Hypothesis testing is a statistical technique that helps us make decisions about a population based on sample of data. It involves making an assumption, called a hypothesis, about the population parameter(s) of interest and then using sample data to test that assumption. The goal is to determine whether there is enough evidence in the sample data to reject the null hypothesis. \n",
    "\n",
    "The two main types of hypotheses are:\n",
    "- the null hypothesis \n",
    "- the alternative hypothesis \n",
    "\n",
    "## **Null and Alternative Hypotheses**\n",
    "\n",
    "- **Null Hypothesis**: denoted by H0, is the assumption that there is no significant difference between a population parameter. \n",
    "\n",
    "- **Alternative Hypotheses**: denoted by Ha, is the opposite of the null hypothesis and represents the possibility of a significant difference between population parameter. \n",
    "\n",
    "For example, suppose we are interested in testing whether the average height of a population is equal to 170 cm. The null hypothesis would be that the average height is equal to 170 cm (H0: μ = 170), and the alternative hypothesis would be that the average height is not equal to 170 cm (Ha: μ ≠ 170).\n",
    "\n",
    "\n",
    "## **Significance level (α)**\n",
    "\n",
    "- **Significance level**: denoted by a, is the probability of rejecting the null hypothesis when it is actually true. Common values are 0.05, 0.01 and 0.10, depending on the level of confidence desired. \n",
    "\n",
    "For example, if we set α = 0.05 and perform a two-tailed test, the critical values would be -1.96 and 1.96. If the calculated test statistic falls within the rejection region (i.e., outside of these critical values), we reject the null hypothesis. If it falls within the non-rejection region, we fail to reject the null hypothesis.\n",
    "\n",
    "## **Test Statistic**\n",
    "\n",
    "A standardized value calculated from sample data, used to decide whether to reject the null hypothesis. Examples include the z-score, t-score, chi-square, and F-statistic.\n",
    "\n",
    "\n",
    "## **P-value**\n",
    "\n",
    "The probability of obtaining a test statistic at least as extreme as the one observed, assuming the null hypothesis is true. It helps determine the strength of evidence against the null hypothesis.\n",
    "\n",
    "**Interpretation of p-value**\n",
    "- **Small p-value (≤ 𝛼)**: Strong evidence against the null hypothesis, so you reject the null hypothesis.\n",
    "- **Large p-value (> α)**: Weak evidence against the null hypothesis, so you fail to reject the null hypothesis.\n",
    "- **Exact p-value**: Indicates the strength of the evidence against the null hypothesis.\n",
    "\n",
    "\n",
    "\n"
   ]
  },
  {
   "cell_type": "markdown",
   "metadata": {},
   "source": [
    "## **Example of Hypothesis Testing**\n",
    "\n",
    "Let's consider an example of testing whether a new drug is effective in lowering blood pressure compared to a placebo."
   ]
  },
  {
   "cell_type": "code",
   "execution_count": 1,
   "metadata": {},
   "outputs": [
    {
     "name": "stdout",
     "output_type": "stream",
     "text": [
      "T-statistic: -10.706613794630329\n",
      "P-value: 1.5459467256924509e-09\n",
      "Reject the null hypothesis (H0). The drug is effective.\n"
     ]
    }
   ],
   "source": [
    "import numpy as np\n",
    "from scipy.stats import ttest_ind\n",
    "\n",
    "# Sample data: blood pressure reductions (placebo group and drug group)\n",
    "placebo = [1, 2, 1, 2, 3, 2, 1, 2, 3, 1]\n",
    "drug = [5, 6, 7, 6, 5, 7, 6, 8, 5, 7]\n",
    "\n",
    "# Perform t-test\n",
    "t_stat, p_value = ttest_ind(placebo, drug, alternative='less')\n",
    "print(f\"T-statistic: {t_stat}\")\n",
    "print(f\"P-value: {p_value}\")\n",
    "\n",
    "# Decision based on significance level\n",
    "alpha = 0.05\n",
    "if p_value <= alpha:\n",
    "    print(\"Reject the null hypothesis (H0). The drug is effective.\")\n",
    "else:\n",
    "    print(\"Fail to reject the null hypothesis (H0). The drug is not effective.\")\n"
   ]
  },
  {
   "cell_type": "markdown",
   "metadata": {},
   "source": [
    "## **Types of Hypothesis Tests**\n",
    "\n",
    "1. **Z-test**: Used for large samples (typically n > 30) or when the population standard deviation is known.\n",
    "2. **T-test**: Used for small samples (typically n ≤ 30) or when the population standard deviation is unknown.\n",
    "    - **One-sample t-test**: Tests the mean of a single group against a known mean.\n",
    "    - **Two-sample t-test**: Compares the means of two independent groups.\n",
    "    - **Paired t-test**: Compares means from the same group at different times.\n",
    "\n",
    "3. **Chi-square test**: Used for categorical data to assess how likely it is that an observed distribution is due to chance.\n",
    "4. **ANOVA (Analysis of Variance)**: Compares means among three or more groups.\n",
    "5. **Non-parametric tests**: Used when data do not meet the assumptions required for parametric tests (e.g., Mann-Whitney U test, Kruskal-Wallis test)."
   ]
  }
 ],
 "metadata": {
  "kernelspec": {
   "display_name": "Python 3",
   "language": "python",
   "name": "python3"
  },
  "language_info": {
   "codemirror_mode": {
    "name": "ipython",
    "version": 3
   },
   "file_extension": ".py",
   "mimetype": "text/x-python",
   "name": "python",
   "nbconvert_exporter": "python",
   "pygments_lexer": "ipython3",
   "version": "3.10.9"
  }
 },
 "nbformat": 4,
 "nbformat_minor": 2
}
