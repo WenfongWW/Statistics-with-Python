{
 "cells": [
  {
   "cell_type": "markdown",
   "metadata": {},
   "source": [
    "# **Confidence Interval (CI)**\n",
    "\n",
    "\n",
    "Confidence intervals are a range of values within which we can be confident that the true population parameter lies. This range is estimated based on a sample from the population and a chosen level of confidence. The level of confidence speaks to the likelihood that the genuine populace parameter lies inside the certainty interim. It provides an estimate of the uncertainty around the sample estimate and is a fundamental concept in inferential statistics."
   ]
  },
  {
   "cell_type": "markdown",
   "metadata": {},
   "source": [
    "## **Key Concepts of Confidence Interval**\n",
    "\n",
    "1. **Point Estimate**: A single value estimate of a population parameter (e.g., sample mean xˉ, sample proportion p^).\n",
    "\n",
    "2. **Confidence Level**: The probability that the confidence interval contains the true population parameter. Common confidence levels are 90%, 95%, and 99%.\n",
    "\n",
    "3. **Margin of Error**: The range above and below the point estimate within which the true population parameter is expected to fall. It depends on the standard error of the estimate and the critical value from the sampling distribution.\n",
    "\n",
    "4. **Critical Value**: A factor that reflects the desired confidence level, typically obtained from the standard normal distribution (z-distribution) or the t-distribution.\n",
    "\n",
    "## **Formula for Confidence Interval**\n",
    "\n",
    "For a population mean with a known standard deviation, the confidence interval is given by:\n",
    "\n",
    "$$\n",
    "\\text{CI} = \\bar{x} \\pm z \\frac{\\sigma}{\\sqrt{n}}\n",
    "$$\n",
    "\n",
    "where:\n",
    "\n",
    "- xˉis the sample mean.\n",
    "- 𝑧 is the critical value from the standard normal distribution for the desired confidence level.\n",
    "- 𝜎 is the population standard deviation.\n",
    "- 𝑛 is the sample size.\n",
    "\n",
    "When the population standard deviation is unknown, the sample standard deviation 𝑠 is used, and the t-distribution is applied:\n",
    "\n",
    "$$\n",
    "\\text{CI} = \\bar{x} \\pm t \\frac{\\sigma}{\\sqrt{n}}\n",
    "$$\n",
    "\n",
    "where 𝑡 is the critical value from the t-distribution with n−1 degrees of freedom.\n",
    "\n",
    "## When should you use z-test and t-test?\n",
    "\n",
    "- **Z-test**\n",
    "    - The z test is appropriate when the population standard deviation is known. \n",
    "    - Sample size n is large (n ≥ 30)\n",
    "    - Example: You are estimating the population mean height of a certain species of plant. The population standard deviation is known to be 3 cm, and you have a sample size of 50 plants.\n",
    "\n",
    "- **T-test**\n",
    "    - The t-test is used when the population standard deviation is unknown and the sample standard deviation is used as an estimate. \n",
    "    - Sample size is small (n < 30)\n",
    "    - The data should be approximately normally distributed, especially for small sample sizes. If the sample size is large, the t-distribution approaches the normal distribution.\n",
    "    - You are estimating the average exam score of students in a class. The population standard deviation is unknown, and you have a sample size of 20 students.\n",
    "\n",
    "\n",
    "## **Example: Confidence Interval for a Population Mean**\n",
    "\n",
    "**Known Population Standard Deviation**\n",
    "\n",
    "Suppose we want to estimate the average height of a population, and we have a sample of 30 individuals with a mean height of 170 cm and a known population standard deviation of 5 cm. We want to construct a 95% confidence interval for the population mean.\n",
    "\n",
    "1. **Point Estimate**: xˉ = 170cm \n",
    "2. **Confidence**: 95%\n",
    "3. **Critical Value**: For 95% confidence, z = 1.96\n",
    "4. **Standard Error**: σ/squareroot(n) = 5/squareroot(30) = 0.91\n",
    "\n",
    "- CI = 170 ± 1.96×0.91\n",
    "- CI = 170 ± 1.78\n",
    "- CI = [168.22, 171.78]\n",
    "​\n",
    "**Unknown Population Standard Deviation**\n",
    "\n",
    "If the population standard deviation is unknown and the sample standard deviation is s=5 cm, we use the t-distribution. For a sample size of 30 and 29 degrees of freedom:\n",
    "\n",
    "1. **Point Estimate**: xˉ = 170cm \n",
    "2. **Confidence**: 95%\n",
    "3. **Critical Value**: For 95% confidence and 29 degrees of freedom, t = 1.96\n",
    "4. **Standard Error**: σ/squareroot(n) = 5/squareroot(30) = 0.91\n",
    "\n",
    "- CI = 170 ± 1.96×0.91\n",
    "- CI = 170 ± 1.86\n",
    "- CI = [168.14, 171.86]\n",
    "\n",
    " **Interpreting Confidence Intervals**\n",
    "\n",
    "- **Correct Interpretation**: \"We are 95% confident that the true population mean height lies between 168.22 cm and 171.78 cm.\"\n",
    "- **Incorrect Interpretation**: \"There is a 95% probability that the true population mean is between 168.22 cm and 171.78 cm.\" (The true population mean is a fixed value; the interval either contains it or it doesn't.)\n",
    "\n",
    "## **Example: Confidence Interval for a Proportion**\n",
    "\n",
    "Suppose we want to estimate the proportion of voters who support a particular candidate. We sample 500 voters, and 280 of them support the candidate. We want to construct a 95% confidence interval for the population proportion.\n",
    "\n",
    "\n",
    "\n"
   ]
  },
  {
   "cell_type": "markdown",
   "metadata": {},
   "source": [
    "Example 1: Confidence Interval for a Population Mean (Known Population Standard Deviation)"
   ]
  },
  {
   "cell_type": "code",
   "execution_count": 1,
   "metadata": {},
   "outputs": [
    {
     "name": "stdout",
     "output_type": "stream",
     "text": [
      "Sample Mean: 50.3\n",
      "Confidence Interval: (47.20102483847719, 53.398975161522806)\n"
     ]
    }
   ],
   "source": [
    "import numpy as np\n",
    "import scipy.stats as stats\n",
    "\n",
    "# Sample data\n",
    "sample_data = [50, 52, 51, 49, 48, 47, 52, 50, 53, 51]\n",
    "sample_mean = np.mean(sample_data)\n",
    "n = len(sample_data)\n",
    "sigma = 5  # Known population standard deviation\n",
    "confidence_level = 0.95\n",
    "\n",
    "# Z-critical value\n",
    "z_critical = stats.norm.ppf((1 + confidence_level) / 2)\n",
    "\n",
    "# Standard error\n",
    "standard_error = sigma / np.sqrt(n)\n",
    "\n",
    "# Margin of error\n",
    "margin_of_error = z_critical * standard_error\n",
    "\n",
    "# Confidence interval\n",
    "confidence_interval = (sample_mean - margin_of_error, sample_mean + margin_of_error)\n",
    "print(f\"Sample Mean: {sample_mean}\")\n",
    "print(f\"Confidence Interval: {confidence_interval}\")\n"
   ]
  },
  {
   "cell_type": "markdown",
   "metadata": {},
   "source": [
    "Example 2: Confidence Interval for a Population Mean (Unknown Population Standard Deviation)\n"
   ]
  },
  {
   "cell_type": "code",
   "execution_count": 2,
   "metadata": {},
   "outputs": [
    {
     "name": "stdout",
     "output_type": "stream",
     "text": [
      "Sample Mean: 50.3\n",
      "Confidence Interval: (48.9490040857493, 51.65099591425069)\n"
     ]
    }
   ],
   "source": [
    "# Sample data\n",
    "sample_data = [50, 52, 51, 49, 48, 47, 52, 50, 53, 51]\n",
    "sample_mean = np.mean(sample_data)\n",
    "n = len(sample_data)\n",
    "sample_std = np.std(sample_data, ddof=1)  # Sample standard deviation\n",
    "confidence_level = 0.95\n",
    "\n",
    "# T-critical value\n",
    "t_critical = stats.t.ppf((1 + confidence_level) / 2, df=n-1)\n",
    "\n",
    "# Standard error\n",
    "standard_error = sample_std / np.sqrt(n)\n",
    "\n",
    "# Margin of error\n",
    "margin_of_error = t_critical * standard_error\n",
    "\n",
    "# Confidence interval\n",
    "confidence_interval = (sample_mean - margin_of_error, sample_mean + margin_of_error)\n",
    "print(f\"Sample Mean: {sample_mean}\")\n",
    "print(f\"Confidence Interval: {confidence_interval}\")\n"
   ]
  },
  {
   "cell_type": "markdown",
   "metadata": {},
   "source": [
    "Example 3: Confidence Interval for a Population Proportion\n",
    "\n"
   ]
  },
  {
   "cell_type": "code",
   "execution_count": 3,
   "metadata": {},
   "outputs": [
    {
     "name": "stdout",
     "output_type": "stream",
     "text": [
      "Sample Proportion: 0.3\n",
      "Confidence Interval: (0.2364899081898882, 0.3635100918101118)\n"
     ]
    }
   ],
   "source": [
    "# Sample data\n",
    "n = 200  # Sample size\n",
    "successes = 60  # Number of successes\n",
    "sample_proportion = successes / n\n",
    "confidence_level = 0.95\n",
    "\n",
    "# Z-critical value\n",
    "z_critical = stats.norm.ppf((1 + confidence_level) / 2)\n",
    "\n",
    "# Standard error\n",
    "standard_error = np.sqrt((sample_proportion * (1 - sample_proportion)) / n)\n",
    "\n",
    "# Margin of error\n",
    "margin_of_error = z_critical * standard_error\n",
    "\n",
    "# Confidence interval\n",
    "confidence_interval = (sample_proportion - margin_of_error, sample_proportion + margin_of_error)\n",
    "print(f\"Sample Proportion: {sample_proportion}\")\n",
    "print(f\"Confidence Interval: {confidence_interval}\")\n"
   ]
  }
 ],
 "metadata": {
  "kernelspec": {
   "display_name": "Python 3",
   "language": "python",
   "name": "python3"
  },
  "language_info": {
   "codemirror_mode": {
    "name": "ipython",
    "version": 3
   },
   "file_extension": ".py",
   "mimetype": "text/x-python",
   "name": "python",
   "nbconvert_exporter": "python",
   "pygments_lexer": "ipython3",
   "version": "3.10.9"
  }
 },
 "nbformat": 4,
 "nbformat_minor": 2
}
